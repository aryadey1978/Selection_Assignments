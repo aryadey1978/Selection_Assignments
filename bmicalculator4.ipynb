{
 "cells": [
  {
   "cell_type": "markdown",
   "id": "c2c97dbc",
   "metadata": {},
   "source": [
    "# Body Mass Index (BMI) Calculator Simulation Code"
   ]
  },
  {
   "cell_type": "markdown",
   "id": "d28162a4",
   "metadata": {},
   "source": [
    "## Build"
   ]
  },
  {
   "cell_type": "markdown",
   "id": "0bc0c00f",
   "metadata": {},
   "source": [
    "#### Include all necessary python libratirs to the code simulator"
   ]
  },
  {
   "cell_type": "code",
   "execution_count": 21,
   "id": "09acb75f",
   "metadata": {},
   "outputs": [],
   "source": [
    "import os\n",
    "import numpy as np\n",
    "import pandas as pd\n",
    "import warnings\n",
    "warnings.filterwarnings('ignore')\n",
    "import smtplib\n",
    "from email.mime.multipart import MIMEMultipart\n",
    "from email.mime.text import MIMEText\n",
    "from email.mime.base import MIMEBase\n",
    "from email import encoders\n",
    "import mimetypes\n",
    "from email.message import EmailMessage"
   ]
  },
  {
   "cell_type": "code",
   "execution_count": null,
   "id": "e56f7f59",
   "metadata": {},
   "outputs": [],
   "source": []
  },
  {
   "cell_type": "markdown",
   "id": "38ab44cf",
   "metadata": {},
   "source": [
    "#### Define Global Constants to contain the Range related values pertaining to the BMI"
   ]
  },
  {
   "cell_type": "code",
   "execution_count": 22,
   "id": "114fe228",
   "metadata": {},
   "outputs": [],
   "source": [
    "maxima_1 = 18.4\n",
    "minima_2 = 18.5\n",
    "maxima_2 = 24.9\n",
    "minima_3 = 25\n",
    "maxima_3 = 29.9\n",
    "minima_4 = 30\n",
    "maxima_4 = 34.9\n",
    "minima_5 = 35\n",
    "maxima_5 = 39.9\n",
    "minima_6 = 40"
   ]
  },
  {
   "cell_type": "markdown",
   "id": "4ff08d9a",
   "metadata": {},
   "source": [
    "#### This Block will initiate the dataframe, test the type and content of the dataframe"
   ]
  },
  {
   "cell_type": "code",
   "execution_count": 23,
   "id": "30f9815c",
   "metadata": {},
   "outputs": [],
   "source": [
    "bmi_dta = pd.read_csv(\"BMI_Data.csv\")\n",
    "dataframedim = len(bmi_dta) # Save the dimension of the dataframe in the global variable dataframedim"
   ]
  },
  {
   "cell_type": "markdown",
   "id": "a6b82982",
   "metadata": {},
   "source": [
    "#### This Block would check the statistics of the newly created dataframe post data load as follows"
   ]
  },
  {
   "cell_type": "code",
   "execution_count": 24,
   "id": "f83afc37",
   "metadata": {},
   "outputs": [
    {
     "name": "stdout",
     "output_type": "stream",
     "text": [
      "<class 'pandas.core.frame.DataFrame'>\n",
      "RangeIndex: 6 entries, 0 to 5\n",
      "Data columns (total 3 columns):\n",
      " #   Column    Non-Null Count  Dtype \n",
      "---  ------    --------------  ----- \n",
      " 0   Gender    6 non-null      object\n",
      " 1   HeightCm  6 non-null      int64 \n",
      " 2   WeightKg  6 non-null      int64 \n",
      "dtypes: int64(2), object(1)\n",
      "memory usage: 272.0+ bytes\n"
     ]
    }
   ],
   "source": [
    "bmi_dta.info()"
   ]
  },
  {
   "cell_type": "markdown",
   "id": "75a48d2d",
   "metadata": {},
   "source": [
    "#### This Block will display the contents of the dataframe independently as of its latest state"
   ]
  },
  {
   "cell_type": "code",
   "execution_count": 25,
   "id": "c3d52372",
   "metadata": {},
   "outputs": [
    {
     "data": {
      "text/html": [
       "<div>\n",
       "<style scoped>\n",
       "    .dataframe tbody tr th:only-of-type {\n",
       "        vertical-align: middle;\n",
       "    }\n",
       "\n",
       "    .dataframe tbody tr th {\n",
       "        vertical-align: top;\n",
       "    }\n",
       "\n",
       "    .dataframe thead th {\n",
       "        text-align: right;\n",
       "    }\n",
       "</style>\n",
       "<table border=\"1\" class=\"dataframe\">\n",
       "  <thead>\n",
       "    <tr style=\"text-align: right;\">\n",
       "      <th></th>\n",
       "      <th>Gender</th>\n",
       "      <th>HeightCm</th>\n",
       "      <th>WeightKg</th>\n",
       "    </tr>\n",
       "  </thead>\n",
       "  <tbody>\n",
       "    <tr>\n",
       "      <th>0</th>\n",
       "      <td>Male</td>\n",
       "      <td>171</td>\n",
       "      <td>96</td>\n",
       "    </tr>\n",
       "    <tr>\n",
       "      <th>1</th>\n",
       "      <td>Male</td>\n",
       "      <td>161</td>\n",
       "      <td>85</td>\n",
       "    </tr>\n",
       "    <tr>\n",
       "      <th>2</th>\n",
       "      <td>Male</td>\n",
       "      <td>180</td>\n",
       "      <td>77</td>\n",
       "    </tr>\n",
       "    <tr>\n",
       "      <th>3</th>\n",
       "      <td>Female</td>\n",
       "      <td>166</td>\n",
       "      <td>62</td>\n",
       "    </tr>\n",
       "    <tr>\n",
       "      <th>4</th>\n",
       "      <td>Female</td>\n",
       "      <td>150</td>\n",
       "      <td>70</td>\n",
       "    </tr>\n",
       "  </tbody>\n",
       "</table>\n",
       "</div>"
      ],
      "text/plain": [
       "   Gender  HeightCm  WeightKg\n",
       "0    Male       171        96\n",
       "1    Male       161        85\n",
       "2    Male       180        77\n",
       "3  Female       166        62\n",
       "4  Female       150        70"
      ]
     },
     "execution_count": 25,
     "metadata": {},
     "output_type": "execute_result"
    }
   ],
   "source": [
    "bmi_dta.head()"
   ]
  },
  {
   "cell_type": "markdown",
   "id": "c4ce1fe9",
   "metadata": {},
   "source": [
    "#### This Block will add the Custom columns HeightM & HeightM^2 to calculate height in meters and get it squared"
   ]
  },
  {
   "cell_type": "code",
   "execution_count": 26,
   "id": "4317845e",
   "metadata": {},
   "outputs": [],
   "source": [
    "# HeightM: Calculated field to convert HeightCm values to meters\n",
    "# HeightM^2: Calculated field to perform the square of the height in meters\n",
    "# BMI: Calculated field that calculates the BMI based on BMI formula rpovided in the document \"BMI Calculator Challenge v6.pdf\"\n",
    "# Next step is to round of the calculated BMI to 2 decimal places\n",
    "# Explore the contents of the dataframe after adding these calculated fields"
   ]
  },
  {
   "cell_type": "code",
   "execution_count": 27,
   "id": "1cf04818",
   "metadata": {},
   "outputs": [
    {
     "name": "stdout",
     "output_type": "stream",
     "text": [
      "<<-----------Following is the drafted content of the dataframe post computation------------>>\n",
      "\n"
     ]
    },
    {
     "data": {
      "text/html": [
       "<div>\n",
       "<style scoped>\n",
       "    .dataframe tbody tr th:only-of-type {\n",
       "        vertical-align: middle;\n",
       "    }\n",
       "\n",
       "    .dataframe tbody tr th {\n",
       "        vertical-align: top;\n",
       "    }\n",
       "\n",
       "    .dataframe thead th {\n",
       "        text-align: right;\n",
       "    }\n",
       "</style>\n",
       "<table border=\"1\" class=\"dataframe\">\n",
       "  <thead>\n",
       "    <tr style=\"text-align: right;\">\n",
       "      <th></th>\n",
       "      <th>Gender</th>\n",
       "      <th>HeightCm</th>\n",
       "      <th>WeightKg</th>\n",
       "      <th>HeightM</th>\n",
       "      <th>HeightM^2</th>\n",
       "      <th>BMI</th>\n",
       "    </tr>\n",
       "  </thead>\n",
       "  <tbody>\n",
       "    <tr>\n",
       "      <th>0</th>\n",
       "      <td>Male</td>\n",
       "      <td>171</td>\n",
       "      <td>96</td>\n",
       "      <td>1.71</td>\n",
       "      <td>2.9241</td>\n",
       "      <td>32.83</td>\n",
       "    </tr>\n",
       "    <tr>\n",
       "      <th>1</th>\n",
       "      <td>Male</td>\n",
       "      <td>161</td>\n",
       "      <td>85</td>\n",
       "      <td>1.61</td>\n",
       "      <td>2.5921</td>\n",
       "      <td>32.79</td>\n",
       "    </tr>\n",
       "    <tr>\n",
       "      <th>2</th>\n",
       "      <td>Male</td>\n",
       "      <td>180</td>\n",
       "      <td>77</td>\n",
       "      <td>1.80</td>\n",
       "      <td>3.2400</td>\n",
       "      <td>23.77</td>\n",
       "    </tr>\n",
       "    <tr>\n",
       "      <th>3</th>\n",
       "      <td>Female</td>\n",
       "      <td>166</td>\n",
       "      <td>62</td>\n",
       "      <td>1.66</td>\n",
       "      <td>2.7556</td>\n",
       "      <td>22.50</td>\n",
       "    </tr>\n",
       "    <tr>\n",
       "      <th>4</th>\n",
       "      <td>Female</td>\n",
       "      <td>150</td>\n",
       "      <td>70</td>\n",
       "      <td>1.50</td>\n",
       "      <td>2.2500</td>\n",
       "      <td>31.11</td>\n",
       "    </tr>\n",
       "    <tr>\n",
       "      <th>5</th>\n",
       "      <td>Female</td>\n",
       "      <td>167</td>\n",
       "      <td>82</td>\n",
       "      <td>1.67</td>\n",
       "      <td>2.7889</td>\n",
       "      <td>29.40</td>\n",
       "    </tr>\n",
       "  </tbody>\n",
       "</table>\n",
       "</div>"
      ],
      "text/plain": [
       "   Gender  HeightCm  WeightKg  HeightM  HeightM^2    BMI\n",
       "0    Male       171        96     1.71     2.9241  32.83\n",
       "1    Male       161        85     1.61     2.5921  32.79\n",
       "2    Male       180        77     1.80     3.2400  23.77\n",
       "3  Female       166        62     1.66     2.7556  22.50\n",
       "4  Female       150        70     1.50     2.2500  31.11\n",
       "5  Female       167        82     1.67     2.7889  29.40"
      ]
     },
     "execution_count": 27,
     "metadata": {},
     "output_type": "execute_result"
    }
   ],
   "source": [
    "if len(bmi_dta) == dataframedim:\n",
    "    bmi_dta[\"HeightM\"] = bmi_dta[\"HeightCm\"]/100\n",
    "    bmi_dta[\"HeightM^2\"] = bmi_dta[\"HeightM\"]*bmi_dta[\"HeightM\"]\n",
    "    bmi_dta[\"BMI\"] = bmi_dta[\"WeightKg\"]/bmi_dta[\"HeightM^2\"]\n",
    "    bmi_dta[\"BMI\"] = bmi_dta[\"BMI\"].round(2)\n",
    "    print(\"<<-----------Following is the drafted content of the dataframe post computation------------>>\\n\") \n",
    "bmi_dta # Explore the newly added columns"
   ]
  },
  {
   "cell_type": "markdown",
   "id": "577aea6a",
   "metadata": {},
   "source": [
    "#### This Block calculates the BMI Category & Health Risk of the patient depending on their BMI by adding these columns"
   ]
  },
  {
   "cell_type": "code",
   "execution_count": 28,
   "id": "d14107ad",
   "metadata": {},
   "outputs": [
    {
     "name": "stdout",
     "output_type": "stream",
     "text": [
      "<<-----------Following is the drafted content of the dataframe post computation------------>>\n",
      "\n",
      "\n",
      "\n",
      "\n",
      "\n"
     ]
    },
    {
     "data": {
      "text/html": [
       "<div>\n",
       "<style scoped>\n",
       "    .dataframe tbody tr th:only-of-type {\n",
       "        vertical-align: middle;\n",
       "    }\n",
       "\n",
       "    .dataframe tbody tr th {\n",
       "        vertical-align: top;\n",
       "    }\n",
       "\n",
       "    .dataframe thead th {\n",
       "        text-align: right;\n",
       "    }\n",
       "</style>\n",
       "<table border=\"1\" class=\"dataframe\">\n",
       "  <thead>\n",
       "    <tr style=\"text-align: right;\">\n",
       "      <th></th>\n",
       "      <th>Gender</th>\n",
       "      <th>HeightCm</th>\n",
       "      <th>WeightKg</th>\n",
       "      <th>HeightM</th>\n",
       "      <th>HeightM^2</th>\n",
       "      <th>BMI</th>\n",
       "      <th>BMI_CATEGORY</th>\n",
       "      <th>Health_Risk</th>\n",
       "    </tr>\n",
       "  </thead>\n",
       "  <tbody>\n",
       "    <tr>\n",
       "      <th>0</th>\n",
       "      <td>Male</td>\n",
       "      <td>171</td>\n",
       "      <td>96</td>\n",
       "      <td>1.71</td>\n",
       "      <td>2.9241</td>\n",
       "      <td>32.83</td>\n",
       "      <td>Moderately obese</td>\n",
       "      <td>Medium risk</td>\n",
       "    </tr>\n",
       "    <tr>\n",
       "      <th>1</th>\n",
       "      <td>Male</td>\n",
       "      <td>161</td>\n",
       "      <td>85</td>\n",
       "      <td>1.61</td>\n",
       "      <td>2.5921</td>\n",
       "      <td>32.79</td>\n",
       "      <td>Moderately obese</td>\n",
       "      <td>Medium risk</td>\n",
       "    </tr>\n",
       "    <tr>\n",
       "      <th>2</th>\n",
       "      <td>Male</td>\n",
       "      <td>180</td>\n",
       "      <td>77</td>\n",
       "      <td>1.80</td>\n",
       "      <td>3.2400</td>\n",
       "      <td>23.77</td>\n",
       "      <td>Normal weight</td>\n",
       "      <td>Low risk</td>\n",
       "    </tr>\n",
       "    <tr>\n",
       "      <th>3</th>\n",
       "      <td>Female</td>\n",
       "      <td>166</td>\n",
       "      <td>62</td>\n",
       "      <td>1.66</td>\n",
       "      <td>2.7556</td>\n",
       "      <td>22.50</td>\n",
       "      <td>Normal weight</td>\n",
       "      <td>Low risk</td>\n",
       "    </tr>\n",
       "    <tr>\n",
       "      <th>4</th>\n",
       "      <td>Female</td>\n",
       "      <td>150</td>\n",
       "      <td>70</td>\n",
       "      <td>1.50</td>\n",
       "      <td>2.2500</td>\n",
       "      <td>31.11</td>\n",
       "      <td>Moderately obese</td>\n",
       "      <td>Medium risk</td>\n",
       "    </tr>\n",
       "    <tr>\n",
       "      <th>5</th>\n",
       "      <td>Female</td>\n",
       "      <td>167</td>\n",
       "      <td>82</td>\n",
       "      <td>1.67</td>\n",
       "      <td>2.7889</td>\n",
       "      <td>29.40</td>\n",
       "      <td>Overweight</td>\n",
       "      <td>Enhanced risk</td>\n",
       "    </tr>\n",
       "  </tbody>\n",
       "</table>\n",
       "</div>"
      ],
      "text/plain": [
       "   Gender  HeightCm  WeightKg  HeightM  HeightM^2    BMI      BMI_CATEGORY  \\\n",
       "0    Male       171        96     1.71     2.9241  32.83  Moderately obese   \n",
       "1    Male       161        85     1.61     2.5921  32.79  Moderately obese   \n",
       "2    Male       180        77     1.80     3.2400  23.77     Normal weight   \n",
       "3  Female       166        62     1.66     2.7556  22.50     Normal weight   \n",
       "4  Female       150        70     1.50     2.2500  31.11  Moderately obese   \n",
       "5  Female       167        82     1.67     2.7889  29.40        Overweight   \n",
       "\n",
       "     Health_Risk  \n",
       "0    Medium risk  \n",
       "1    Medium risk  \n",
       "2       Low risk  \n",
       "3       Low risk  \n",
       "4    Medium risk  \n",
       "5  Enhanced risk  "
      ]
     },
     "execution_count": 28,
     "metadata": {},
     "output_type": "execute_result"
    }
   ],
   "source": [
    "bmi_dta.loc[(bmi_dta[\"BMI\"]>=maxima_1), \"BMI_CATEGORY\"] = \"Underweight\"\n",
    "bmi_dta.loc[(bmi_dta[\"BMI\"]>=maxima_1), \"Health_Risk\"] = \"Malnutrition risk\"\n",
    "bmi_dta.loc[(bmi_dta[\"BMI\"]>=minima_2) & (bmi_dta[\"BMI\"]<=maxima_2), \"BMI_CATEGORY\"] = \"Normal weight\"\n",
    "bmi_dta.loc[(bmi_dta[\"BMI\"]>=minima_2) & (bmi_dta[\"BMI\"]<=maxima_2), \"Health_Risk\"] = \"Low risk\"\n",
    "bmi_dta.loc[(bmi_dta[\"BMI\"]>=minima_3) & (bmi_dta[\"BMI\"]<=maxima_3), \"BMI_CATEGORY\"] = \"Overweight\"\n",
    "bmi_dta.loc[(bmi_dta[\"BMI\"]>=minima_3) & (bmi_dta[\"BMI\"]<=maxima_3), \"Health_Risk\"] = \"Enhanced risk\"\n",
    "bmi_dta.loc[(bmi_dta[\"BMI\"]>=minima_4) & (bmi_dta[\"BMI\"]<=maxima_4), \"BMI_CATEGORY\"] = \"Moderately obese\"\n",
    "bmi_dta.loc[(bmi_dta[\"BMI\"]>=minima_4) & (bmi_dta[\"BMI\"]<=maxima_4), \"Health_Risk\"] = \"Medium risk\"\n",
    "bmi_dta.loc[(bmi_dta[\"BMI\"]>=minima_5) & (bmi_dta[\"BMI\"]<=maxima_5), \"BMI_CATEGORY\"] = \"Severely obese\"\n",
    "bmi_dta.loc[(bmi_dta[\"BMI\"]>=minima_5) & (bmi_dta[\"BMI\"]<=maxima_5), \"Health_Risk\"] = \"High risk\"\n",
    "bmi_dta.loc[(bmi_dta[\"BMI\"]>=minima_6), \"BMI_CATEGORY\"] = \"Very severely obese\"\n",
    "bmi_dta.loc[(bmi_dta[\"BMI\"]>=minima_6), \"Health_Risk\"] = \"Very high risk\"\n",
    "print(\"<<-----------Following is the drafted content of the dataframe post computation------------>>\\n\") \n",
    "print(\"\\n\") \n",
    "print(\"\\n\")\n",
    "bmi_dta    "
   ]
  },
  {
   "cell_type": "markdown",
   "id": "d4621842",
   "metadata": {},
   "source": [
    "#### This Block will calculate the total number of overweight people"
   ]
  },
  {
   "cell_type": "code",
   "execution_count": 29,
   "id": "56dfc407",
   "metadata": {},
   "outputs": [
    {
     "data": {
      "text/plain": [
       "BMI_CATEGORY\n",
       "Overweight          1\n",
       "Normal weight       2\n",
       "Moderately obese    3\n",
       "Name: BMI, dtype: int64"
      ]
     },
     "execution_count": 29,
     "metadata": {},
     "output_type": "execute_result"
    }
   ],
   "source": [
    "bmi_dta.groupby(\"BMI_CATEGORY\")[\"BMI\"].count().round(2).sort_values()"
   ]
  },
  {
   "cell_type": "markdown",
   "id": "cc450696",
   "metadata": {},
   "source": [
    "#### This Block will email the contents of dataframe bmi_dta via an excel to dey.arya@gmail.com & aryade@yahoo.com"
   ]
  },
  {
   "cell_type": "code",
   "execution_count": 30,
   "id": "bcb0ec8b",
   "metadata": {},
   "outputs": [],
   "source": [
    "bmi_dta.to_excel (r\"C:\\Users\\User\\Desktop\\Vamstar\\export_bmi_dta.xlsx\", index = False, header=True) # Sending the excel to C:\\Users\\User"
   ]
  },
  {
   "cell_type": "code",
   "execution_count": 31,
   "id": "4fc4313d",
   "metadata": {},
   "outputs": [],
   "source": [
    "# The following piece of code will attach 'export_bmi_dta.xlsx' from C:\\Users\\User \n",
    "# from dey.arya@gmail.com and send it to aryade@yahoo.com"
   ]
  },
  {
   "cell_type": "code",
   "execution_count": 32,
   "id": "41579e6b",
   "metadata": {},
   "outputs": [
    {
     "data": {
      "text/plain": [
       "(221, b'2.0.0 closing connection rj8sm637008pjb.0 - gsmtp')"
      ]
     },
     "execution_count": 32,
     "metadata": {},
     "output_type": "execute_result"
    }
   ],
   "source": [
    "from_email_addr = \"dey.arya@gmail.com\"\n",
    "to_email_addr = \"aryade@yahoo.com\"\n",
    "msg = MIMEMultipart()\n",
    "msg['From'] = from_email_addr\n",
    "msg['To'] = to_email_addr\n",
    "msg['Subject'] = \"Body Mass Index Report\"\n",
    "body = \"Body Mass Index Report for today is attached with this email. Please review it.....\"\n",
    "msg.attach(MIMEText(body, 'plain'))\n",
    "filename = \"export_bmi_dta.xlsx\"\n",
    "attachment = open(r\"C:\\Users\\User\\Desktop\\Vamstar\\export_bmi_dta.xlsx\", \"rb\")\n",
    "part = MIMEBase('application', 'octet-stream')\n",
    "part.set_payload((attachment).read())\n",
    "encoders.encode_base64(part)\n",
    "part.add_header('Content-Disposition', \"attachment; filename= %s\" % filename)\n",
    "msg.attach(part)\n",
    "server = smtplib.SMTP('smtp.gmail.com', 587)\n",
    "server.starttls()\n",
    "server.login(from_email_addr, \"Give your own password\") # Original password has been removed \n",
    "text = msg.as_string()\n",
    "server.sendmail(from_email_addr, to_email_addr, text)\n",
    "server.quit()"
   ]
  },
  {
   "cell_type": "markdown",
   "id": "db83a257",
   "metadata": {},
   "source": [
    "## Unit Testing"
   ]
  },
  {
   "cell_type": "markdown",
   "id": "00a04860",
   "metadata": {},
   "source": [
    "#### Test Case 1: Prove that the object loaded with data is a dataframe and data loaded with was proper without NULLs"
   ]
  },
  {
   "cell_type": "code",
   "execution_count": 13,
   "id": "904d044d",
   "metadata": {},
   "outputs": [
    {
     "name": "stdout",
     "output_type": "stream",
     "text": [
      "Following is the object that has been created with its custom statistics:\n",
      "\n",
      "<class 'pandas.core.frame.DataFrame'>\n",
      "RangeIndex: 6 entries, 0 to 5\n",
      "Data columns (total 8 columns):\n",
      " #   Column        Non-Null Count  Dtype  \n",
      "---  ------        --------------  -----  \n",
      " 0   Gender        6 non-null      object \n",
      " 1   HeightCm      6 non-null      int64  \n",
      " 2   WeightKg      6 non-null      int64  \n",
      " 3   HeightM       6 non-null      float64\n",
      " 4   HeightM^2     6 non-null      float64\n",
      " 5   BMI           6 non-null      float64\n",
      " 6   BMI_CATEGORY  6 non-null      object \n",
      " 7   Health_Risk   6 non-null      object \n",
      "dtypes: float64(3), int64(2), object(3)\n",
      "memory usage: 512.0+ bytes\n"
     ]
    }
   ],
   "source": [
    "print(\"Following is the object that has been created with its custom statistics:\\n\")\n",
    "bmi_dta.info()"
   ]
  },
  {
   "cell_type": "markdown",
   "id": "15af8ffb",
   "metadata": {},
   "source": [
    "#### Test Case 2: Check that there are 6 rows in the dataframe and no more"
   ]
  },
  {
   "cell_type": "code",
   "execution_count": 14,
   "id": "c6439e1e",
   "metadata": {},
   "outputs": [
    {
     "name": "stdout",
     "output_type": "stream",
     "text": [
      "The total number of rows in the dataframe are: 6\n"
     ]
    }
   ],
   "source": [
    "print(\"The total number of rows in the dataframe are:\", len(bmi_dta))"
   ]
  },
  {
   "cell_type": "markdown",
   "id": "9ed8c0d5",
   "metadata": {},
   "source": [
    "#### Test Case 3: Check the content of the dataframe which should match with \"BMI_Calculator.xlsx\""
   ]
  },
  {
   "cell_type": "code",
   "execution_count": 15,
   "id": "87eacc27",
   "metadata": {},
   "outputs": [],
   "source": [
    "# In this test the content of the dataframe will be exploded first\n",
    "# The Excel based \"BMI_Calculator.xlsx\" based out of \"BMI_Data.csv\" (BMI_Data.csv has been created by the JSON data provided) \n",
    "# will be imported into python via bmi_calc_excel_dta dataframe\n",
    "# The content of bmi_dta & bmi_calc_excel_dta will be mirror images to each other"
   ]
  },
  {
   "cell_type": "code",
   "execution_count": 16,
   "id": "b38a5121",
   "metadata": {},
   "outputs": [
    {
     "data": {
      "text/html": [
       "<div>\n",
       "<style scoped>\n",
       "    .dataframe tbody tr th:only-of-type {\n",
       "        vertical-align: middle;\n",
       "    }\n",
       "\n",
       "    .dataframe tbody tr th {\n",
       "        vertical-align: top;\n",
       "    }\n",
       "\n",
       "    .dataframe thead th {\n",
       "        text-align: right;\n",
       "    }\n",
       "</style>\n",
       "<table border=\"1\" class=\"dataframe\">\n",
       "  <thead>\n",
       "    <tr style=\"text-align: right;\">\n",
       "      <th></th>\n",
       "      <th>Gender</th>\n",
       "      <th>HeightCm</th>\n",
       "      <th>WeightKg</th>\n",
       "      <th>HeightM</th>\n",
       "      <th>HeightM^2</th>\n",
       "      <th>BMI</th>\n",
       "      <th>BMI_CATEGORY</th>\n",
       "      <th>Health_Risk</th>\n",
       "    </tr>\n",
       "  </thead>\n",
       "  <tbody>\n",
       "    <tr>\n",
       "      <th>0</th>\n",
       "      <td>Male</td>\n",
       "      <td>171</td>\n",
       "      <td>96</td>\n",
       "      <td>1.71</td>\n",
       "      <td>2.9241</td>\n",
       "      <td>32.83</td>\n",
       "      <td>Moderately obese</td>\n",
       "      <td>Medium risk</td>\n",
       "    </tr>\n",
       "    <tr>\n",
       "      <th>1</th>\n",
       "      <td>Male</td>\n",
       "      <td>161</td>\n",
       "      <td>85</td>\n",
       "      <td>1.61</td>\n",
       "      <td>2.5921</td>\n",
       "      <td>32.79</td>\n",
       "      <td>Moderately obese</td>\n",
       "      <td>Medium risk</td>\n",
       "    </tr>\n",
       "    <tr>\n",
       "      <th>2</th>\n",
       "      <td>Male</td>\n",
       "      <td>180</td>\n",
       "      <td>77</td>\n",
       "      <td>1.80</td>\n",
       "      <td>3.2400</td>\n",
       "      <td>23.77</td>\n",
       "      <td>Normal weight</td>\n",
       "      <td>Low risk</td>\n",
       "    </tr>\n",
       "    <tr>\n",
       "      <th>3</th>\n",
       "      <td>Female</td>\n",
       "      <td>166</td>\n",
       "      <td>62</td>\n",
       "      <td>1.66</td>\n",
       "      <td>2.7556</td>\n",
       "      <td>22.50</td>\n",
       "      <td>Normal weight</td>\n",
       "      <td>Low risk</td>\n",
       "    </tr>\n",
       "    <tr>\n",
       "      <th>4</th>\n",
       "      <td>Female</td>\n",
       "      <td>150</td>\n",
       "      <td>70</td>\n",
       "      <td>1.50</td>\n",
       "      <td>2.2500</td>\n",
       "      <td>31.11</td>\n",
       "      <td>Moderately obese</td>\n",
       "      <td>Medium risk</td>\n",
       "    </tr>\n",
       "    <tr>\n",
       "      <th>5</th>\n",
       "      <td>Female</td>\n",
       "      <td>167</td>\n",
       "      <td>82</td>\n",
       "      <td>1.67</td>\n",
       "      <td>2.7889</td>\n",
       "      <td>29.40</td>\n",
       "      <td>Overweight</td>\n",
       "      <td>Enhanced risk</td>\n",
       "    </tr>\n",
       "  </tbody>\n",
       "</table>\n",
       "</div>"
      ],
      "text/plain": [
       "   Gender  HeightCm  WeightKg  HeightM  HeightM^2    BMI      BMI_CATEGORY  \\\n",
       "0    Male       171        96     1.71     2.9241  32.83  Moderately obese   \n",
       "1    Male       161        85     1.61     2.5921  32.79  Moderately obese   \n",
       "2    Male       180        77     1.80     3.2400  23.77     Normal weight   \n",
       "3  Female       166        62     1.66     2.7556  22.50     Normal weight   \n",
       "4  Female       150        70     1.50     2.2500  31.11  Moderately obese   \n",
       "5  Female       167        82     1.67     2.7889  29.40        Overweight   \n",
       "\n",
       "     Health_Risk  \n",
       "0    Medium risk  \n",
       "1    Medium risk  \n",
       "2       Low risk  \n",
       "3       Low risk  \n",
       "4    Medium risk  \n",
       "5  Enhanced risk  "
      ]
     },
     "execution_count": 16,
     "metadata": {},
     "output_type": "execute_result"
    }
   ],
   "source": [
    "bmi_dta # Explode the content of the python BMI Calculator dtaframe"
   ]
  },
  {
   "cell_type": "code",
   "execution_count": 17,
   "id": "f89d2dc9",
   "metadata": {},
   "outputs": [],
   "source": [
    "# Import the excel data into python\n",
    "bmi_calc_excel_dta = pd.read_excel('BMI_Calculator_1.xlsx', index_col=0)  "
   ]
  },
  {
   "cell_type": "code",
   "execution_count": 18,
   "id": "a6e59991",
   "metadata": {},
   "outputs": [
    {
     "data": {
      "text/html": [
       "<div>\n",
       "<style scoped>\n",
       "    .dataframe tbody tr th:only-of-type {\n",
       "        vertical-align: middle;\n",
       "    }\n",
       "\n",
       "    .dataframe tbody tr th {\n",
       "        vertical-align: top;\n",
       "    }\n",
       "\n",
       "    .dataframe thead th {\n",
       "        text-align: right;\n",
       "    }\n",
       "</style>\n",
       "<table border=\"1\" class=\"dataframe\">\n",
       "  <thead>\n",
       "    <tr style=\"text-align: right;\">\n",
       "      <th></th>\n",
       "      <th>Gender</th>\n",
       "      <th>HeightCm</th>\n",
       "      <th>WeightKg</th>\n",
       "      <th>HeightM</th>\n",
       "      <th>HeightM^2</th>\n",
       "      <th>BMI</th>\n",
       "      <th>BMI_Category</th>\n",
       "      <th>Health_Risk</th>\n",
       "    </tr>\n",
       "  </thead>\n",
       "  <tbody>\n",
       "    <tr>\n",
       "      <th>0</th>\n",
       "      <td>Male</td>\n",
       "      <td>171</td>\n",
       "      <td>96</td>\n",
       "      <td>1.71</td>\n",
       "      <td>2.9241</td>\n",
       "      <td>32.830615</td>\n",
       "      <td>Moderately obese</td>\n",
       "      <td>Medium risk</td>\n",
       "    </tr>\n",
       "    <tr>\n",
       "      <th>1</th>\n",
       "      <td>Male</td>\n",
       "      <td>161</td>\n",
       "      <td>85</td>\n",
       "      <td>1.61</td>\n",
       "      <td>2.5921</td>\n",
       "      <td>32.791945</td>\n",
       "      <td>Moderately obese</td>\n",
       "      <td>Medium risk</td>\n",
       "    </tr>\n",
       "    <tr>\n",
       "      <th>2</th>\n",
       "      <td>Male</td>\n",
       "      <td>180</td>\n",
       "      <td>77</td>\n",
       "      <td>1.80</td>\n",
       "      <td>3.2400</td>\n",
       "      <td>23.765432</td>\n",
       "      <td>Normal weight</td>\n",
       "      <td>Low risk</td>\n",
       "    </tr>\n",
       "    <tr>\n",
       "      <th>3</th>\n",
       "      <td>Female</td>\n",
       "      <td>166</td>\n",
       "      <td>62</td>\n",
       "      <td>1.66</td>\n",
       "      <td>2.7556</td>\n",
       "      <td>22.499637</td>\n",
       "      <td>Normal weight</td>\n",
       "      <td>Low risk</td>\n",
       "    </tr>\n",
       "    <tr>\n",
       "      <th>4</th>\n",
       "      <td>Female</td>\n",
       "      <td>150</td>\n",
       "      <td>70</td>\n",
       "      <td>1.50</td>\n",
       "      <td>2.2500</td>\n",
       "      <td>31.111111</td>\n",
       "      <td>Moderately obese</td>\n",
       "      <td>Medium risk</td>\n",
       "    </tr>\n",
       "    <tr>\n",
       "      <th>5</th>\n",
       "      <td>Female</td>\n",
       "      <td>167</td>\n",
       "      <td>82</td>\n",
       "      <td>1.67</td>\n",
       "      <td>2.7889</td>\n",
       "      <td>29.402273</td>\n",
       "      <td>Overweight</td>\n",
       "      <td>Enhanced risk</td>\n",
       "    </tr>\n",
       "  </tbody>\n",
       "</table>\n",
       "</div>"
      ],
      "text/plain": [
       "   Gender  HeightCm  WeightKg  HeightM  HeightM^2        BMI  \\\n",
       "0    Male       171        96     1.71     2.9241  32.830615   \n",
       "1    Male       161        85     1.61     2.5921  32.791945   \n",
       "2    Male       180        77     1.80     3.2400  23.765432   \n",
       "3  Female       166        62     1.66     2.7556  22.499637   \n",
       "4  Female       150        70     1.50     2.2500  31.111111   \n",
       "5  Female       167        82     1.67     2.7889  29.402273   \n",
       "\n",
       "       BMI_Category    Health_Risk  \n",
       "0  Moderately obese    Medium risk  \n",
       "1  Moderately obese    Medium risk  \n",
       "2     Normal weight       Low risk  \n",
       "3     Normal weight       Low risk  \n",
       "4  Moderately obese    Medium risk  \n",
       "5        Overweight  Enhanced risk  "
      ]
     },
     "execution_count": 18,
     "metadata": {},
     "output_type": "execute_result"
    }
   ],
   "source": [
    "bmi_calc_excel_dta.reset_index() # Explode the content of second dataframe"
   ]
  },
  {
   "cell_type": "code",
   "execution_count": 19,
   "id": "fda6b96e",
   "metadata": {},
   "outputs": [],
   "source": [
    "bmi_calc_excel_dta[\"BMI\"] = bmi_calc_excel_dta[\"BMI\"].round(2) # Modify the BMI data upto 2 decimal places"
   ]
  },
  {
   "cell_type": "code",
   "execution_count": 20,
   "id": "bf315693",
   "metadata": {},
   "outputs": [
    {
     "data": {
      "text/html": [
       "<div>\n",
       "<style scoped>\n",
       "    .dataframe tbody tr th:only-of-type {\n",
       "        vertical-align: middle;\n",
       "    }\n",
       "\n",
       "    .dataframe tbody tr th {\n",
       "        vertical-align: top;\n",
       "    }\n",
       "\n",
       "    .dataframe thead th {\n",
       "        text-align: right;\n",
       "    }\n",
       "</style>\n",
       "<table border=\"1\" class=\"dataframe\">\n",
       "  <thead>\n",
       "    <tr style=\"text-align: right;\">\n",
       "      <th></th>\n",
       "      <th>Gender</th>\n",
       "      <th>HeightCm</th>\n",
       "      <th>WeightKg</th>\n",
       "      <th>HeightM</th>\n",
       "      <th>HeightM^2</th>\n",
       "      <th>BMI</th>\n",
       "      <th>BMI_Category</th>\n",
       "      <th>Health_Risk</th>\n",
       "    </tr>\n",
       "  </thead>\n",
       "  <tbody>\n",
       "    <tr>\n",
       "      <th>0</th>\n",
       "      <td>Male</td>\n",
       "      <td>171</td>\n",
       "      <td>96</td>\n",
       "      <td>1.71</td>\n",
       "      <td>2.9241</td>\n",
       "      <td>32.83</td>\n",
       "      <td>Moderately obese</td>\n",
       "      <td>Medium risk</td>\n",
       "    </tr>\n",
       "    <tr>\n",
       "      <th>1</th>\n",
       "      <td>Male</td>\n",
       "      <td>161</td>\n",
       "      <td>85</td>\n",
       "      <td>1.61</td>\n",
       "      <td>2.5921</td>\n",
       "      <td>32.79</td>\n",
       "      <td>Moderately obese</td>\n",
       "      <td>Medium risk</td>\n",
       "    </tr>\n",
       "    <tr>\n",
       "      <th>2</th>\n",
       "      <td>Male</td>\n",
       "      <td>180</td>\n",
       "      <td>77</td>\n",
       "      <td>1.80</td>\n",
       "      <td>3.2400</td>\n",
       "      <td>23.77</td>\n",
       "      <td>Normal weight</td>\n",
       "      <td>Low risk</td>\n",
       "    </tr>\n",
       "    <tr>\n",
       "      <th>3</th>\n",
       "      <td>Female</td>\n",
       "      <td>166</td>\n",
       "      <td>62</td>\n",
       "      <td>1.66</td>\n",
       "      <td>2.7556</td>\n",
       "      <td>22.50</td>\n",
       "      <td>Normal weight</td>\n",
       "      <td>Low risk</td>\n",
       "    </tr>\n",
       "    <tr>\n",
       "      <th>4</th>\n",
       "      <td>Female</td>\n",
       "      <td>150</td>\n",
       "      <td>70</td>\n",
       "      <td>1.50</td>\n",
       "      <td>2.2500</td>\n",
       "      <td>31.11</td>\n",
       "      <td>Moderately obese</td>\n",
       "      <td>Medium risk</td>\n",
       "    </tr>\n",
       "    <tr>\n",
       "      <th>5</th>\n",
       "      <td>Female</td>\n",
       "      <td>167</td>\n",
       "      <td>82</td>\n",
       "      <td>1.67</td>\n",
       "      <td>2.7889</td>\n",
       "      <td>29.40</td>\n",
       "      <td>Overweight</td>\n",
       "      <td>Enhanced risk</td>\n",
       "    </tr>\n",
       "  </tbody>\n",
       "</table>\n",
       "</div>"
      ],
      "text/plain": [
       "   Gender  HeightCm  WeightKg  HeightM  HeightM^2    BMI      BMI_Category  \\\n",
       "0    Male       171        96     1.71     2.9241  32.83  Moderately obese   \n",
       "1    Male       161        85     1.61     2.5921  32.79  Moderately obese   \n",
       "2    Male       180        77     1.80     3.2400  23.77     Normal weight   \n",
       "3  Female       166        62     1.66     2.7556  22.50     Normal weight   \n",
       "4  Female       150        70     1.50     2.2500  31.11  Moderately obese   \n",
       "5  Female       167        82     1.67     2.7889  29.40        Overweight   \n",
       "\n",
       "     Health_Risk  \n",
       "0    Medium risk  \n",
       "1    Medium risk  \n",
       "2       Low risk  \n",
       "3       Low risk  \n",
       "4    Medium risk  \n",
       "5  Enhanced risk  "
      ]
     },
     "execution_count": 20,
     "metadata": {},
     "output_type": "execute_result"
    }
   ],
   "source": [
    "bmi_calc_excel_dta.reset_index() # Explode the contents of BMI_Calculator.xslx dataframe \n",
    "# Data is matching"
   ]
  },
  {
   "cell_type": "code",
   "execution_count": null,
   "id": "b40cb3c0",
   "metadata": {},
   "outputs": [],
   "source": []
  },
  {
   "cell_type": "code",
   "execution_count": null,
   "id": "fbad4818",
   "metadata": {},
   "outputs": [],
   "source": []
  },
  {
   "cell_type": "code",
   "execution_count": null,
   "id": "f372a80c",
   "metadata": {},
   "outputs": [],
   "source": []
  },
  {
   "cell_type": "code",
   "execution_count": null,
   "id": "0261c295",
   "metadata": {},
   "outputs": [],
   "source": []
  },
  {
   "cell_type": "code",
   "execution_count": null,
   "id": "71a4b319",
   "metadata": {},
   "outputs": [],
   "source": []
  },
  {
   "cell_type": "code",
   "execution_count": null,
   "id": "71e3fed5",
   "metadata": {},
   "outputs": [],
   "source": []
  },
  {
   "cell_type": "code",
   "execution_count": null,
   "id": "4d9ba4a5",
   "metadata": {},
   "outputs": [],
   "source": []
  },
  {
   "cell_type": "code",
   "execution_count": null,
   "id": "e37891c3",
   "metadata": {},
   "outputs": [],
   "source": []
  },
  {
   "cell_type": "code",
   "execution_count": null,
   "id": "4d4c3afd",
   "metadata": {},
   "outputs": [],
   "source": []
  },
  {
   "cell_type": "code",
   "execution_count": null,
   "id": "852b3865",
   "metadata": {},
   "outputs": [],
   "source": []
  },
  {
   "cell_type": "code",
   "execution_count": null,
   "id": "e00cd01e",
   "metadata": {},
   "outputs": [],
   "source": []
  },
  {
   "cell_type": "code",
   "execution_count": null,
   "id": "6c26ebcd",
   "metadata": {},
   "outputs": [],
   "source": []
  },
  {
   "cell_type": "code",
   "execution_count": null,
   "id": "7867493a",
   "metadata": {},
   "outputs": [],
   "source": []
  },
  {
   "cell_type": "code",
   "execution_count": null,
   "id": "311f8954",
   "metadata": {},
   "outputs": [],
   "source": []
  },
  {
   "cell_type": "code",
   "execution_count": null,
   "id": "89f8b599",
   "metadata": {},
   "outputs": [],
   "source": []
  }
 ],
 "metadata": {
  "kernelspec": {
   "display_name": "Python 3",
   "language": "python",
   "name": "python3"
  },
  "language_info": {
   "codemirror_mode": {
    "name": "ipython",
    "version": 3
   },
   "file_extension": ".py",
   "mimetype": "text/x-python",
   "name": "python",
   "nbconvert_exporter": "python",
   "pygments_lexer": "ipython3",
   "version": "3.8.8"
  }
 },
 "nbformat": 4,
 "nbformat_minor": 5
}
